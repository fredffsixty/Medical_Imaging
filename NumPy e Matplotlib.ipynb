{
 "cells": [
  {
   "cell_type": "markdown",
   "metadata": {},
   "source": [
    "# Breve Introduzione a NumPy\n",
    "\n",
    "NumPy è la libreria di calcolo algebrico che implementa i vettori e matrici di tipo numerico e le operazioni su di essi. L'array n-dimensionale (```ndarray```) è strutturato come un oggetto di un certo tipo e un suo layout in memoria. Lo ```ndarray``` è caratterizzato dauna sua ```shape``` ovvero la tupla delle sue dimensioni."
   ]
  },
  {
   "cell_type": "code",
   "execution_count": 1,
   "metadata": {},
   "outputs": [
    {
     "name": "stdout",
     "output_type": "stream",
     "text": [
      "3 [[1. 2. 3.]\n",
      " [4. 5. 6.]]\n"
     ]
    },
    {
     "data": {
      "text/plain": [
       "(2, 3)"
      ]
     },
     "execution_count": 1,
     "metadata": {},
     "output_type": "execute_result"
    }
   ],
   "source": [
    "import numpy as np\n",
    "\n",
    "a = np.array([[1,2,3],[4,5,6]]) # opzionale dtype='int64' o 'float64'\n",
    "\n",
    "b = np.array(a,dtype='float64')\n",
    "\n",
    "print(a[0][2],b)\n",
    "\n",
    "b.shape\n"
   ]
  },
  {
   "cell_type": "code",
   "execution_count": 2,
   "metadata": {},
   "outputs": [
    {
     "data": {
      "text/plain": [
       "3.0"
      ]
     },
     "execution_count": 2,
     "metadata": {},
     "output_type": "execute_result"
    }
   ],
   "source": [
    "b[0, 2]"
   ]
  },
  {
   "cell_type": "code",
   "execution_count": 11,
   "metadata": {},
   "outputs": [
    {
     "name": "stdout",
     "output_type": "stream",
     "text": [
      "[2. 5.] (2,)\n",
      "[[3]\n",
      " [5]] (2, 1)\n"
     ]
    }
   ],
   "source": [
    "c = b[:,1]\n",
    "\n",
    "g = np.array([[3],[5]])\n",
    "\n",
    "g.shape\n",
    "\n",
    "print(c,c.shape)\n",
    "print(g,g.shape)\n"
   ]
  },
  {
   "cell_type": "code",
   "execution_count": 12,
   "metadata": {},
   "outputs": [
    {
     "name": "stdout",
     "output_type": "stream",
     "text": [
      "[[0. 0. 0.]\n",
      " [0. 0. 0.]] \n",
      "\n",
      "\n",
      "[[1 0 0 0]\n",
      " [0 1 0 0]\n",
      " [0 0 1 0]\n",
      " [0 0 0 1]] \n",
      "\n",
      "\n",
      "[[3 3 3]\n",
      " [3 3 3]]\n"
     ]
    }
   ],
   "source": [
    "# creazione e copia di ndarray\n",
    "z = np.zeros((2,3))\n",
    "print(z,'\\n\\n')\n",
    "\n",
    "e = np.eye(4,dtype='int32')\n",
    "print(e,'\\n\\n')\n",
    "\n",
    "fl = np.full_like(a,3.6) # il tipo è int\n",
    "print(fl)"
   ]
  },
  {
   "cell_type": "code",
   "execution_count": 3,
   "metadata": {},
   "outputs": [
    {
     "name": "stdout",
     "output_type": "stream",
     "text": [
      "[[1 2 3]\n",
      " [4 5 6]] \n",
      "\n",
      "\n",
      "[[1 2 3]\n",
      " [4 5 6]] \n",
      "\n",
      "\n",
      "[[ 2  4  6]\n",
      " [ 8 10 12]] \n",
      "\n",
      "\n"
     ]
    },
    {
     "data": {
      "text/plain": [
       "3"
      ]
     },
     "execution_count": 3,
     "metadata": {},
     "output_type": "execute_result"
    }
   ],
   "source": [
    "# creazione di matrici\n",
    "import numpy.matlib as npm\n",
    "\n",
    "m = npm.mat([[1,2,3],[4,5,6]])\n",
    "\n",
    "print(m,'\\n\\n')\n",
    "\n",
    "mm = npm.asmatrix(a)\n",
    "\n",
    "print(mm,'\\n\\n')\n",
    "\n",
    "print(m+mm,'\\n\\n')\n",
    "\n",
    "mm[0,2]"
   ]
  },
  {
   "cell_type": "code",
   "execution_count": 22,
   "metadata": {},
   "outputs": [
    {
     "data": {
      "text/plain": [
       "array([[3., 0., 0., 0.],\n",
       "       [0., 4., 0., 0.],\n",
       "       [0., 0., 5., 0.],\n",
       "       [0., 0., 0., 6.]])"
      ]
     },
     "execution_count": 22,
     "metadata": {},
     "output_type": "execute_result"
    }
   ],
   "source": [
    "\n",
    "c = np.eye(4)\n",
    "c.shape\n",
    "c*b[a>2]\n"
   ]
  },
  {
   "attachments": {},
   "cell_type": "markdown",
   "metadata": {},
   "source": [
    "(4,) (4,4) --> (4,1) (4,4) "
   ]
  },
  {
   "cell_type": "code",
   "execution_count": 8,
   "metadata": {},
   "outputs": [
    {
     "name": "stdout",
     "output_type": "stream",
     "text": [
      "[[1 2 3]\n",
      " [4 5 6]]\n",
      "6\n",
      "[[2 3]\n",
      " [5 6]]\n",
      "(2, 3)\n",
      "[2 4 6]\n",
      "[[1 4]\n",
      " [2 5]\n",
      " [3 6]]\n",
      "[[1 4]\n",
      " [2 5]\n",
      " [3 6]]\n",
      "[[1 2]\n",
      " [3 4]\n",
      " [5 6]]\n"
     ]
    }
   ],
   "source": [
    "print(a,a[1,2],a[:,1:], sep='\\n') # gli array usano lo slicing di Pyhon: lavorare su una slice significa modificare l'array originale\n",
    "\n",
    "print(a.shape) # tupla con le dimensioni\n",
    "\n",
    "print(a[a%2==0]) # array contenente tutti gli elementi pari\n",
    "\n",
    "print(a.T) # proprietà dell'array che non lo modifica\n",
    "\n",
    "print(a.transpose()) # uso del metodo esplicito di trasposizione che non modifica l'array\n",
    "\n",
    "print(a.reshape(3,2)) # reshaping: restituisce un array con gli elementi disposti secondo la tupla passata come argomento e **modifica** l'array\n"
   ]
  },
  {
   "cell_type": "code",
   "execution_count": 26,
   "metadata": {},
   "outputs": [
    {
     "data": {
      "text/plain": [
       "array([[1, 2],\n",
       "       [3, 4],\n",
       "       [5, 6]])"
      ]
     },
     "execution_count": 26,
     "metadata": {},
     "output_type": "execute_result"
    }
   ],
   "source": [
    "a.reshape(3,2)"
   ]
  },
  {
   "cell_type": "code",
   "execution_count": 18,
   "metadata": {},
   "outputs": [
    {
     "data": {
      "text/plain": [
       "array([[1, 2, 3],\n",
       "       [8, 8, 8]])"
      ]
     },
     "execution_count": 18,
     "metadata": {},
     "output_type": "execute_result"
    }
   ],
   "source": [
    "a[a>3]=8\n",
    "a"
   ]
  },
  {
   "cell_type": "code",
   "execution_count": 21,
   "metadata": {},
   "outputs": [
    {
     "name": "stdout",
     "output_type": "stream",
     "text": [
      "[[1 2 3]\n",
      " [4 5 6]] [[1. 2. 3.]\n",
      " [4. 5. 6.]]\n",
      "[[ 2.  4.  6.]\n",
      " [ 8. 10. 12.]]\n",
      "[[ 1.  4.  9.]\n",
      " [16. 25. 36.]]\n",
      "[[ True  True  True]\n",
      " [False False False]]\n"
     ]
    }
   ],
   "source": [
    "print(a,b)\n",
    "\n",
    "# operatori elemento per elemento\n",
    "print(a+b)\n",
    "\n",
    "print(a*b)\n",
    "\n",
    "print(a<=3)\n"
   ]
  },
  {
   "cell_type": "code",
   "execution_count": 10,
   "metadata": {},
   "outputs": [
    {
     "name": "stdout",
     "output_type": "stream",
     "text": [
      "[-1.00000000e+00 -9.00000000e-01 -8.00000000e-01 -7.00000000e-01\n",
      " -6.00000000e-01 -5.00000000e-01 -4.00000000e-01 -3.00000000e-01\n",
      " -2.00000000e-01 -1.00000000e-01 -2.22044605e-16  1.00000000e-01\n",
      "  2.00000000e-01  3.00000000e-01  4.00000000e-01  5.00000000e-01\n",
      "  6.00000000e-01  7.00000000e-01  8.00000000e-01  9.00000000e-01\n",
      "  1.00000000e+00]\n",
      "[-1.  -0.9 -0.8 -0.7 -0.6 -0.5 -0.4 -0.3 -0.2 -0.1 -0.   0.1  0.2  0.3\n",
      "  0.4  0.5  0.6  0.7  0.8  0.9  1. ]\n"
     ]
    }
   ],
   "source": [
    "# Generazione di range\n",
    "x = np.arange(-1,1.1,0.1) # np.arange([start,]stop[,step],dtype=None)\n",
    "                          # lo stop è escluso\n",
    "\n",
    "print(x)\n",
    "\n",
    "# formattazione di un ndarray per la stampa\n",
    "np.set_printoptions(precision=3, suppress=True)\n",
    "\n",
    "print(x)\n"
   ]
  },
  {
   "cell_type": "markdown",
   "metadata": {},
   "source": [
    "# Broadcasting\n",
    "\n",
    "è la tecnica per calcolare operazioni su array di dimensione diversa, omogeneizzando implicitamete le dimensioni attraverso\n",
    "duplicazione degli elementi nell'array di rango minore.\n",
    "\n",
    "In questo modo si ottiene una implementazione che di fatto è un'operazione elemento per elemento\n",
    "\n",
    "Regole:\n",
    "1. si estendono le dimensioni dell'array di rango minore premettendo 1 fino ad arrivare a due tuple di shape uguali\n",
    "2. si verifica la compatibilità: in ogni dimensione le due tuple hanno valori uguali o una delle due vale 1\n",
    "3. si duplicano gli elementi delle dimensioni unitarie in un array tante volte quant'è il valore della dimensione omologa nell'altro array\n",
    "\n",
    "Esempio: prodotto esterno di due array di dimensione N cioè shape (N,); uno dei due subisce il reshape a (N,1) e si ha:\n",
    "\n",
    "(N,) * (N,1) ==> (1,N) * (N,1) perché aggiungo 1 alla shape del primo array\n",
    "\n",
    "Il primo array viene duplicato lungo le righe fino ad N (dimensione del secondo) e il secondo lungo le colonne fino a N (dimensione del primo)\n",
    "\n",
    "Il prodotto esterno è la matrice ottenuta come prodotto elemento per elemento dei due array\n",
    "\n",
    "Nell'esempio seguente: \n",
    "```\n",
    "                       [1,2,3] * [4,      [[1,2,3],    [[4,4,4],      [[4,8,12],\n",
    "                                  5,  ==>  [1,2,3],  *  [5,5,5],  =    [5,10,15],\n",
    "                                  6]       [1,2,3]]     [6,6,6]]       [6,12,18]]\n",
    "```\n",
    "'*' è il prodotto elemento per elemento. Il prodotto esterno consueto si avrebbe calcolando:\n",
    "```\n",
    "[1,    [4,5,6]\n",
    " 2, * \n",
    " 3]\n",
    "```\n",
    "In questo caso si ottiene la trasposta della matrice precedente perché le tuple si allineano come:\n",
    "\n",
    "(N,1) * (N,) ==> (N,1) * (1,N)\n",
    "\n",
    "e quindi il primo vettore si duplica lungo le colonne e il secondo lungo le righe.\n"
   ]
  },
  {
   "cell_type": "code",
   "execution_count": 11,
   "metadata": {},
   "outputs": [
    {
     "name": "stdout",
     "output_type": "stream",
     "text": [
      "[[ 4  8 12]\n",
      " [ 5 10 15]\n",
      " [ 6 12 18]]\n"
     ]
    }
   ],
   "source": [
    "print(np.array([1,2,3])*np.array([4,5,6]).reshape(3,1)) # * è il consueto prodotto elemento per elemento"
   ]
  },
  {
   "cell_type": "code",
   "execution_count": 18,
   "metadata": {},
   "outputs": [
    {
     "name": "stdout",
     "output_type": "stream",
     "text": [
      "32\n",
      "\n",
      "[[ 44  56]\n",
      " [164 216]\n",
      " [ 98 128]]\n",
      "\n",
      "[[ 4  5  6]\n",
      " [ 8 10 12]\n",
      " [12 15 18]]\n",
      "\n",
      "-11.999999999999995\n",
      "\n",
      "17\n",
      "\n"
     ]
    }
   ],
   "source": [
    "\"\"\"\n",
    "Introduciamo un po' di operatori dell'algebra lineare\n",
    "\"\"\"\n",
    "x=np.array([1,2,3])\n",
    "y=np.array([4,5,6])\n",
    "\n",
    "m = np.array([[1,2,3],[7,10,9],[4,5,6]])\n",
    "n = np.array([[2,4],[6,8],[10,12]])\n",
    "\n",
    "# prodotto interno\n",
    "print(np.dot(x,y),end='\\n\\n')\n",
    "print(np.dot(m,n),end='\\n\\n')\n",
    "\n",
    "# prodotto esterno\n",
    "print(np.outer(x,y),end='\\n\\n')\n",
    "\n",
    "# determinante\n",
    "print(np.linalg.det(m),end='\\n\\n')\n",
    "\n",
    "# traccia  di una matrice\n",
    "print(np.trace(m),end='\\n\\n')\n",
    "\n"
   ]
  },
  {
   "cell_type": "code",
   "execution_count": 19,
   "metadata": {},
   "outputs": [
    {
     "name": "stdout",
     "output_type": "stream",
     "text": [
      "[ 1.25  -1.5    0.917]\n",
      "\n"
     ]
    }
   ],
   "source": [
    "# risoluzione del sistema lineare M*y=x\n",
    "print(np.linalg.solve(m,x),end='\\n\\n')\n",
    "\n"
   ]
  },
  {
   "cell_type": "code",
   "execution_count": 15,
   "metadata": {},
   "outputs": [
    {
     "name": "stdout",
     "output_type": "stream",
     "text": [
      "3.7416573867739413 16.881943016134134 6.0\n",
      "\n"
     ]
    }
   ],
   "source": [
    "# calcolo delle norme\n",
    "print(np.linalg.norm(x),np.linalg.norm(m),np.linalg.norm(x,ord=1),end='\\n\\n')\n",
    "\n"
   ]
  },
  {
   "cell_type": "code",
   "execution_count": 20,
   "metadata": {},
   "outputs": [
    {
     "name": "stdout",
     "output_type": "stream",
     "text": [
      "(array([[-0.202, -0.726,  0.658],\n",
      "       [-0.848,  0.465,  0.253],\n",
      "       [-0.489, -0.507, -0.71 ]]), array([17.86 ,  1.327,  0.506]), array([[-0.453, -0.635, -0.626],\n",
      "       [ 0.377,  0.499, -0.78 ],\n",
      "       [-0.807,  0.59 , -0.013]]))\n"
     ]
    }
   ],
   "source": [
    "# Fattorizzazione di matrice tramite Singular Value Decomposition\n",
    "print(np.linalg.svd(m))\n"
   ]
  },
  {
   "cell_type": "markdown",
   "metadata": {},
   "source": [
    "# Breve introduzione a Matplotlib\n",
    "\n",
    "Disegnamo le funzioni:\n",
    "\n",
    "- $y = x$\n",
    "- $y = x^2$\n",
    "- $y = x^3$"
   ]
  },
  {
   "cell_type": "code",
   "execution_count": 27,
   "metadata": {},
   "outputs": [
    {
     "data": {
      "image/png": "[encoded data removed]",
      "text/plain": [
       "<Figure size 432x288 with 1 Axes>"
      ]
     },
     "metadata": {
      "needs_background": "light"
     },
     "output_type": "display_data"
    }
   ],
   "source": [
    "import math as m\n",
    "import matplotlib.pyplot as plt\n",
    "import numpy as np\n",
    "\n",
    "\n",
    "x = np.linspace(0, 2, 100)\n",
    "\n",
    "plt.plot(x, x, label='linear')\n",
    "plt.plot(x, x**2, label='quadratic')\n",
    "plt.plot(x, x**3, label='cubic')\n",
    "\n",
    "plt.xlabel('x label')\n",
    "plt.ylabel('y label')\n",
    "\n",
    "plt.title(\"Simple Plot\")\n",
    "\n",
    "plt.legend()\n",
    "\n",
    "plt.show()"
   ]
  },
  {
   "cell_type": "markdown",
   "metadata": {},
   "source": [
    "Analizziamo il codice scritto:\n",
    "\n",
    "```python\n",
    "import math as m\n",
    "import matplotlib.pyplot as plt\n",
    "```\n",
    "\n",
    "Per prima cosa importiamo `math` per avere le funzioni matematiche. La libreria `matplotlib` fornisce un'interessante API denominata `pyplot` che ci presenta un'interfaccia di `matplotlib` rappresentata come _macchina a stati_ per cui componiamo la figura che vogliamo _per parti_, un po' come in `MATLAB`. \n",
    "\n",
    "Come riferimento guardiamo la figura seguente:\n",
    "\n",
    "![Struttura di un grafico con la API `pyplot`](https://matplotlib.org/3.1.1/_images/anatomy.png)\n",
    "<p style=\"textalign: center\"><span style=\"font-weight: bold\">Figura 1:</span> Struttura di un grafico con la API <code>pyplot</code> (Fonte: <a href=\"https://matplotlib.org/3.1.1/index.html\">matplotlib.org</a>)</p>\n",
    "\n",
    "Come si vede chiaramente, la API `pyplot` ci consente di creare una _figure_ che è composta tra le altre cose dal grafico vero e proprio e da tutta una serie di oggetti che lo decorano.\n",
    "\n",
    "Al fine di creare i nostri dati invochiamo `numpy` e richiediamo la generazione di un _linear space_:\n",
    "\n",
    "```python\n",
    "import numpy as np\n",
    "\n",
    "\n",
    "x = np.linspace(0, 2, 100)\n",
    "```\n",
    "\n",
    "Il metodo `numpy.linspace(start,stop,num)` crea un array costituito da `num` elementi uniformemente distribuiti tra `start` e `stop`, estremi inclusi.\n",
    "\n",
    "Il grafico vero e proprio viene generato con le chiamate seguenti:\n",
    "\n",
    "```python\n",
    "plt.plot(x, x, label='linear')\n",
    "plt.plot(x, x**2, label='quadratic')\n",
    "plt.plot(x, x**3, label='cubic')\n",
    "```\n",
    "\n",
    "Si noti qui l'uso dell'operatore di elevazione a potenza `**` che è applicato all'array `x` direttamente elemento per elemento.\n",
    "\n",
    "La chiamata a `matplotlib.pyplot.plot([x], y, [fmt], scalex=True, scaley=True, data=None, **kwargs)` disegna effettivamente un grafico con i soli assi e la curva ottenuta dal vettore `y` vs `x` che funge da ascissa. La stringa `fmt` è una combinazione di caratteri che indicano il formato della linea in termini di _<marcatore,tratto,colore>_. per esempio il valore '+r--' indica dei marcatori '+' di colore rosso e linea a tratti ('--'). I parametri di scala alla dimensione mostrata del canvas `scalex` e `scaley` sono veri di default mentre `data` fa riferimento a un oggetto Python indicizzabile, come ad esempio un `dict`, il quale può essere usato per ospitare la corrispondenza tra ascisse ed ordinate del grafico al posto di passare i due array separatamente. Infine `kwargs` sono una lista di coppie chiave-valore, definite nella classe _`matplotlib.lines.Line2D`_, che compongono lo stile della linea. Un esempio sono le specifiche `label` nel codice.\n",
    "\n",
    "Le linee seguenti:\n",
    "```python\n",
    "plt.xlabel('x label')\n",
    "plt.ylabel('y label')\n",
    "\n",
    "plt.title(\"Simple Plot\")\n",
    "\n",
    "plt.legend()\n",
    "\n",
    "plt.show()\n",
    "```\n",
    "aggiungono rspettivamente la didascalia degli assi _x_ ed _y_, il titolo della figura e la legenda: i colori ed il tratto delle linee sono quelli di default mentre il testo della legenda è ottenuto dal parametro `label` passato alle chiamate `plot()`. Infine il metodo `show()` mostra effettivamente l'intera figura.\n",
    "\n",
    "## Subplot\n",
    "\n",
    "Matplotlib consente di creare visualizzazioni multi figura per attraverso la creazione di _subplot_ con un determinato layout all'interno di una `figure`.\n",
    "\n",
    "```python\n",
    "fig, axs =  matplotlib.pyplot.subplots(nrows=1, ncols=1, *, sharex=False, sharey=False,\\\n",
    " squeeze=True, subplot_kw=None, gridspec_kw=None, **fig_kw)\n",
    "````\n",
    "\n",
    "`fig` è il riferimento alla figura creata, `axs` è l'_asse_ (ovvero il singolo grafico) o la lista di assi creati secondo un layout a griglia specificato da `nrows` e `ncols`. `sharex` e `sharey` definiscono se i grafici devono o meno condividere gli assi x e y rispettivamemte.\n",
    "\n",
    "`squeeze` definisce se l'array di assi deve eventualmente essere monodimensionale (se `nrows` o `ncols` è pari a 1) ovvero essere una semplice istanza ad un oggetto di classe `Axes`. `squeeze = False` impone che il risultato sia sempre un array bidimensionale.\n",
    "\n",
    "`subplot_kw` argomenti parole chiave passati alle singole chiamate `add_subplot()` di creazione del singolo plot.\n",
    "\n",
    "`gridspec_kw` argomenti parole chiave passati al costruttore `GridSpec` invocato per creare il layout a griglia.\n",
    "\n",
    "`fig_kw` argomenti parole chiave passati alla chiamata del costruttore `Figure` di creazione dell'intera figura.\n",
    "\n",
    "\n"
   ]
  },
  {
   "cell_type": "code",
   "execution_count": 32,
   "metadata": {},
   "outputs": [
    {
     "data": {
      "image/png": "[encoded data removed]",
      "text/plain": [
       "<Figure size 792x504 with 8 Axes>"
      ]
     },
     "metadata": {
      "needs_background": "light"
     },
     "output_type": "display_data"
    }
   ],
   "source": [
    "# Creiamo un po' di dati\n",
    "x = np.linspace(0, 2*np.pi, 150)\n",
    "y = np.sin(x**2)\n",
    "\n",
    "data = {'apple': 10, 'orange': 15, 'lemon': 5, 'lime': 20}\n",
    "names = list(data.keys())\n",
    "values = list(data.values())\n",
    "\n",
    "fig, axs = plt.subplots(2, 3, figsize=(11, 7), sharey=True)\n",
    "axs[0, 0].bar(names, values)\n",
    "axs[0, 1].scatter(names, values)\n",
    "axs[0, 2].plot(names, values)\n",
    "\n",
    "# cancelliamo i bordi e i tick del subplot corrente e ne creiamo un altro polare\n",
    "axs[1, 0].set_frame_on(False)\n",
    "axs[1, 0].tick_params(axis='both',\\\n",
    "                    which='both',\\\n",
    "                    bottom=False,top=False,right=False,left=False,\\\n",
    "                    labelbottom=False,labelleft=False)\n",
    "\n",
    "axs[1, 0] = fig.add_subplot(234,projection='polar')\n",
    "\n",
    "axs[1, 0].set_ylim(bottom=-2.0,top=2.0)\n",
    "axs[1, 0].plot(x,y)\n",
    "\n",
    "\n",
    "# idem per il successivo\n",
    "axs[1, 1].set_frame_on(False)\n",
    "axs[1, 1].tick_params(axis='both',\\\n",
    "                    which='both',\\\n",
    "                    bottom=False,top=False,right=False,left=False,\\\n",
    "                    labelbottom=False,labelleft=False)\n",
    "axs[1, 1] = fig.add_subplot(235,projection='polar')\n",
    "axs[1, 1].scatter(x, y)\n",
    "\n",
    "# Non mostriamo l'ultimo grafico che altrimenti sarebbe vuoto, ma con gli assi visibili\n",
    "axs[1, 2].set_frame_on(False)\n",
    "axs[1, 2].tick_params(axis='both',\\\n",
    "                    which='both',\\\n",
    "                    bottom=False,top=False,right=False,left=False,\\\n",
    "                    labelbottom=False,labelleft=False)\n",
    "\n",
    "fig.suptitle('Mixed Plotting')\n",
    "\n",
    "# mostriamo tutto il grafico\n",
    "plt.show()\n"
   ]
  },
  {
   "cell_type": "markdown",
   "metadata": {},
   "source": [
    "# Esercizi\n",
    "\n",
    "1. Generare una sequenza di 20 valori tratti uniformememnte dalla funzione $e^{-sin(x)}$ nell'intervallo $[0,\\pi]$ e disegnarli utilizzando un marcatore a forma di diamante, di colore marrone e senza linea di raccordo. Si aggiungano il titolo, le didascalie, le legende e si impostino i _minor ticks_ a passi di $0.1$ con le relative legende.\n",
    "2. Generare un istogramma a partire da un insieme di dati etichettati contenuti in un dict: `fruits={'apple': 23, 'banana': 48, 'mango': 65, 'lemon': 12}` utilizzando il metodo `hist()`. Si lascia libertà di scelta sul colore delle barre e sul testo del titolo e delle didascalie.\n",
    "    1. _Parte Opzionale_: si crei un istogramma bidimensionale e/o con barre multivalore a partire dalla seguente struttura dati: \\\n",
    "    `fruit_sells = {'apple': {'Q1': 12, 'Q2': 24, 'Q3': 31, 'Q4': 17}, 'banana': {'Q1': 21, 'Q2': 30, 'Q3': 18, 'Q4': 53}, 'mango': {'Q1': 18, 'Q2': 9, 'Q3': 33, 'Q4': 65}, 'lemon': {'Q1': 30, 'Q2': 8, 'Q3': 17, 'Q4': 23}}`"
   ]
  }
 ],
 "metadata": {
  "interpreter": {
   "hash": "84b9dcf49d089f01b9eaac5a7d1859adfaf113298191bc984c3ee4e3089ec2ca"
  },
  "kernelspec": {
   "display_name": "Python 3.10.0 ('new_env')",
   "language": "python",
   "name": "python3"
  },
  "language_info": {
   "codemirror_mode": {
    "name": "ipython",
    "version": 3
   },
   "file_extension": ".py",
   "mimetype": "text/x-python",
   "name": "python",
   "nbconvert_exporter": "python",
   "pygments_lexer": "ipython3",
   "version": "3.10.9"
  },
  "pycharm": {
   "stem_cell": {
    "cell_type": "raw",
    "metadata": {
     "collapsed": false
    },
    "source": []
   }
  }
 },
 "nbformat": 4,
 "nbformat_minor": 4
}
