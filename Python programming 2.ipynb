{
 "cells": [
  {
   "cell_type": "markdown",
   "metadata": {
    "pycharm": {
     "name": "#%% md\n"
    }
   },
   "source": [
    "# Stringhe, liste, tuple, strutture di controllo del flusso e ordinamento\n",
    "\n",
    "Le stringhe vengono generate con il costruttore built-in `str()` a partire da altri oggetti. Esse sono _immutable_ cioè immodificabili e quindi applicare operazioni alle stringhe produce sempre nuovi oggetti stringa.\n",
    "\n",
    "Alcuni tra i metodi principali delle stringhe sono riportati nel seguito:\n",
    "\n",
    "- `s.lower(), s.upper()` restituisce la stringa `s` tutta in minuscolo/maiuscolo\n",
    "- `s.strip()` restituisce la stringa senza spazi bianchi all'inizio e alla fine\n",
    "- `s.isalpha()/s.isdigit()/s.isspace()...` verifica se **tutti** i caratteri della stringa sono alfanumerici/numerici/di spaziatura etc.\n",
    "- `s.startswith('other'), s.endswith('other')` verifica se `s` inizia/finisce con la stringa `other`\n",
    "- `s.find('other')` cerca `other` in `s` e restituisce l'indice in cui inizia la prima occorrenza o `-1` se non la trova\n",
    "- `s.replace('old', 'new')` restituisce una stringa in cui tutte le occorrenze  di `old` sono rimpiazzate da ` new`\n",
    "- `s.split('delim')` restituisce una lista di sottostringhe che risultano separate dalla stringa `delim` che ***non è*** una espressione regolare. ad es. `'aaa,bbb,ccc'.split(',') -> ['aaa', 'bbb', 'ccc']`. Senza argomenti `s.split()` usa gli spazi come delimitatori.\n",
    "- `s.join(list)` unisce gli elementi di `list` in un'unica stringa concatenata da `s` che fa da delimitatore. Ad esempio `'---'.join(['aaa', 'bbb', 'ccc']) -> aaa---bbb---ccc`\n",
    "\n",
    "Le stringhe Python 3 sono Unicode, in Python 2 invece no e bisognava esplicitamente crearle premettendo `u` al letterale ovvero con la funzione built-in `unicode` che non è più definita in Python 3.\n",
    "\n",
    "## Stampa formattata: `print()`\n",
    "\n",
    "Le stringhe Python 2, ma anche Python 3, possiedono una notazione `%` simile al C/C++ per inserire variabili di tipo diverso all'interno di una _stringa formato_ per l'output formattato:"
   ]
  },
  {
   "cell_type": "code",
   "execution_count": 1,
   "metadata": {
    "collapsed": false,
    "jupyter": {
     "outputs_hidden": false
    },
    "pycharm": {
     "is_executing": false,
     "name": "#%%\n"
    }
   },
   "outputs": [
    {
     "name": "stdout",
     "output_type": "stream",
     "text": [
      "La mamma ha comprato 7 chili di pane a 0.35 € al chilo\n",
      "     preci\n",
      "008.99\n"
     ]
    }
   ],
   "source": [
    "print('La mamma ha comprato %d chili di %s a %g € al chilo' % (7,'pane',0.35))\n",
    "\n",
    "print('%+10.5s' % ('precivitevolissimevolmente')) # allineamento a destra in 10 caratteri troncato a 5\n",
    "\n",
    "print('%06.2f' % (8.9876543))  # allineamento in 6 cifre con due sole posizioni dopo la virgola"
   ]
  },
  {
   "cell_type": "markdown",
   "metadata": {
    "pycharm": {
     "name": "#%% md\n"
    }
   },
   "source": [
    "per una review completa della formattazione si consulti la [guida Python 2](https://docs.python.org/2/library/stdtypes.html#string-formatting)\n",
    "\n",
    "In Python 3 le stringhe usano il metodo `str.format()` per gestire la stessa cosa."
   ]
  },
  {
   "cell_type": "code",
   "execution_count": 52,
   "metadata": {
    "collapsed": false,
    "jupyter": {
     "outputs_hidden": false
    },
    "pycharm": {
     "is_executing": false,
     "name": "#%%\n"
    }
   },
   "outputs": [
    {
     "name": "stdout",
     "output_type": "stream",
     "text": [
      "Hello Jhonny! It looks like you're 23 years old!\n",
      "     preci\n",
      "test______\n",
      "008.99\n",
      "+  23\n"
     ]
    }
   ],
   "source": [
    "name = 'Jhonny'\n",
    "age = 23\n",
    "print('Hello {}! It looks like you\\'re {} years old!'.format(name,age))\n",
    "\n",
    "print('{:>10.5}'.format('precivitevolissimevolmente')) # allineamento a destra in 10 caratteri troncato a 5\n",
    "\n",
    "print('{:_<10s}'.format('test')) #allineamento a sinistra in 10 caratteri e riempimento con '_'\n",
    "\n",
    "print('{:06.2f}'.format(8.9876543))  # allineamento in 6 cifre con due sole posizioni dopo la virgola\n",
    "\n",
    "print('{:=+5d}'.format(23)) # inserimento segno esplicito e allineamento in 5 caratteri senza zeri"
   ]
  },
  {
   "cell_type": "markdown",
   "metadata": {
    "pycharm": {
     "name": "#%% md\n"
    }
   },
   "source": [
    "Da Python 3.6 in poi, sono state inserite le f-string che sono una ulteriore evoluzione della notazione '{...}' utilizzata da `format` e consentono l'inserimento diretto delle variabili nell'output formattato. Esse sono anche molto più efficienti computazionalmente."
   ]
  },
  {
   "cell_type": "code",
   "execution_count": 51,
   "metadata": {
    "collapsed": false,
    "jupyter": {
     "outputs_hidden": false
    },
    "pycharm": {
     "is_executing": false,
     "name": "#%%\n"
    }
   },
   "outputs": [
    {
     "name": "stdout",
     "output_type": "stream",
     "text": [
      "hello, Pirrone!! how are you?\n",
      "Hi **Jhonny**! You are +23.00 years old\n"
     ]
    }
   ],
   "source": [
    "import os\n",
    "\n",
    "name = 'Jhonny'\n",
    "age = 23\n",
    "\n",
    "print(f'hello, {os.getlogin().capitalize()}!! how are you?') # si possono utilizzare direttamente metodi e variabili \n",
    "\n",
    "print(f'Hi {name:*^10s}! You are {age:+6.2f} years old')"
   ]
  },
  {
   "cell_type": "markdown",
   "metadata": {
    "pycharm": {
     "name": "#%% md\n"
    }
   },
   "source": [
    "La funzione `print()` ha la seuguente sintassi\n",
    "```\n",
    "print(oggetto [, oggetto, ...] [,sep='<separatore>'] [,end='<terminatore>])\n",
    "```\n",
    "Il separatore di default è lo spazio, mentre il terminatore di default è il newline `\\n`."
   ]
  },
  {
   "cell_type": "code",
   "execution_count": 54,
   "metadata": {
    "collapsed": false,
    "jupyter": {
     "outputs_hidden": false
    },
    "pycharm": {
     "is_executing": false,
     "name": "#%%\n"
    }
   },
   "outputs": [
    {
     "name": "stdout",
     "output_type": "stream",
     "text": [
      "pippo # pluto # topolino.paperino paperoga gastone\n"
     ]
    }
   ],
   "source": [
    "print('pippo','pluto','topolino',sep=' # ',end='.')\n",
    "print('paperino','paperoga','gastone')"
   ]
  },
  {
   "cell_type": "markdown",
   "metadata": {
    "pycharm": {
     "name": "#%% md\n"
    }
   },
   "source": [
    "## Liste\n",
    "\n",
    "Le liste si definiscono il letterale `[elemento, elemento, ...]`. Una lista può contenere elementi di tipo diverso, utilizza la notazione array e lo slicing, ma non è un _immutable_. Le operazioni affliggono la stessa lista. Possiamo calcolarne la lunghezza con `len`."
   ]
  },
  {
   "cell_type": "code",
   "execution_count": 7,
   "metadata": {
    "collapsed": false,
    "jupyter": {
     "outputs_hidden": false
    },
    "pycharm": {
     "is_executing": false,
     "name": "#%%\n"
    }
   },
   "outputs": [
    {
     "name": "stdout",
     "output_type": "stream",
     "text": [
      "['pippo', True] \n",
      "\n",
      " ['pippo', True]\n"
     ]
    }
   ],
   "source": [
    "a=[1,'pippo',True]\n",
    "b=a # b ed a puntano allo stesso oggetto\n",
    "\n",
    "a.pop(0) # a viene modificato da pop che rimuove il primo elemento della lista\n",
    "\n",
    "print(f'{a} \\n\\n {b}')"
   ]
  },
  {
   "cell_type": "markdown",
   "metadata": {
    "pycharm": {
     "name": "#%% md\n"
    }
   },
   "source": [
    " di seguito vediamo applicati i principali metodi delle liste"
   ]
  },
  {
   "cell_type": "code",
   "execution_count": 7,
   "metadata": {
    "collapsed": false,
    "jupyter": {
     "outputs_hidden": false
    },
    "pycharm": {
     "is_executing": false,
     "name": "#%%\n"
    }
   },
   "outputs": [
    {
     "name": "stdout",
     "output_type": "stream",
     "text": [
      "['qui quo qua', 'pippo', 'pluto', 'paperino', 'topolino', 'clarabella', 'gastone', 'nonna papera']\n",
      "2\n",
      "pippo; ['qui quo qua', 'paperino', 'topolino', 'clarabella', 'gastone', 'nonna papera']\n",
      "['paperino', 'topolino', 'clarabella', 'gastone']\n",
      "['zio paperone', 'topolino', 'clarabella', 'gastone', 'nonna papera']\n"
     ]
    }
   ],
   "source": [
    "list = ['pippo', 'pluto', 'paperino', 'topolino']\n",
    "\n",
    "list.append('clarabella')         ## appende 'clarabella' alla fine\n",
    "list.insert(0, 'qui quo qua')        ## inserisce la stringa in posizione 0\n",
    "list.extend(['gastone', 'nonna papera'])  ## aggiunge una lista alla fine\n",
    "print(list)  \n",
    "print(list.index('pluto'))    ## 2\n",
    "\n",
    "list.remove('pluto')         ## cerca e rimuove l'elemento\n",
    "disney = list.pop(1)         ## rimuove e erestituisce l'elemento in posizione 1\n",
    "print(disney,list, sep='; ')  \n",
    "\n",
    "'''\n",
    "Utilizzo dello slicing\n",
    "'''\n",
    "print(list[1:-1])       # stampa la sottolista cha va dal secondo al penultimo elemento\n",
    "list[0:2]=['zio paperone'] # sostituisce alla sottolista composta dai primi due elementi di list la lista ['zio paperone']\n",
    "\n",
    "print(list)"
   ]
  },
  {
   "cell_type": "markdown",
   "metadata": {
    "pycharm": {
     "name": "#%% md\n"
    }
   },
   "source": [
    "## Tuple\n",
    "\n",
    "le tuple sono simili al concetto di `struct` del C/C++, sono degli _immutable_ che racchiudono al loro interno degli elementi, normalmente eterogenei, per altro perfettamente simili alle liste. I singoli elementi di una tupla possono essere modificati. \n",
    "\n",
    "La sintassi utilizza le parentesi tonde, ad es. `(1,'pippo',False)`; è la classica struttura dati che viene usata quando è necessario che una funzione restituisca più di un valore."
   ]
  },
  {
   "cell_type": "code",
   "execution_count": 11,
   "metadata": {
    "collapsed": false,
    "jupyter": {
     "outputs_hidden": false
    },
    "pycharm": {
     "is_executing": false,
     "name": "#%%\n"
    }
   },
   "outputs": [
    {
     "name": "stdout",
     "output_type": "stream",
     "text": [
      "('Giorgio', 'Giorgio') 5 2 1\n"
     ]
    },
    {
     "data": {
      "text/plain": [
       "('Giorgio', True, ['a', 'b', 'c'])"
      ]
     },
     "execution_count": 11,
     "metadata": {},
     "output_type": "execute_result"
    }
   ],
   "source": [
    "t=(5, 'Giorgio', 'Giorgio', True, ['a','b','c'])\n",
    "\n",
    "#\n",
    "# count() conta le occorrenze dell'elemento passato\n",
    "# come argomento e index() ritorna la sua prima occorrenza\n",
    "#\n",
    "\n",
    "print(t[1:3],len(t),t.count('Giorgio'),t.index('Giorgio'))\n",
    "\n",
    "#\n",
    "# t è immutable e quindi per ottenere il riultato dello\n",
    "# slicing dobbiamo assegnarlo ad un altra tupla\n",
    "#\n",
    "\n",
    "a=t[2:5]\n",
    "a"
   ]
  },
  {
   "cell_type": "markdown",
   "metadata": {
    "pycharm": {
     "name": "#%% md\n"
    }
   },
   "source": [
    "## Strutture di controllo del flusso\n",
    "\n",
    "- Selezione:\n",
    "```python\n",
    "if condizione:  # si entra nel blocco quando condizione è valutata True\n",
    "    istruzione\n",
    "    ...\n",
    "elif condizione:  # opzionale: anche più di uno per scelte multiple\n",
    "    istruzione\n",
    "    ...\n",
    "else:\n",
    "    istruzione\n",
    "    ...\n",
    "```"
   ]
  },
  {
   "cell_type": "code",
   "execution_count": 5,
   "metadata": {
    "collapsed": false,
    "jupyter": {
     "outputs_hidden": false
    },
    "pycharm": {
     "is_executing": false,
     "name": "#%%\n"
    }
   },
   "outputs": [
    {
     "name": "stdout",
     "output_type": "stream",
     "text": [
      "il valore 18.67 assunto da x è intermedio\n"
     ]
    }
   ],
   "source": [
    "x = 18.67\n",
    "\n",
    "if x <= 15:\n",
    "    print(f'x è piccolino e vale {x}')\n",
    "elif x>15 and x<=23.7:\n",
    "    print(f'il valore {x} assunto da x è intermedio')\n",
    "else:\n",
    "    print('x è decisamente grande!!')"
   ]
  },
  {
   "cell_type": "markdown",
   "metadata": {
    "pycharm": {
     "name": "#%% md\n"
    }
   },
   "source": [
    "- Iterazione `for`:\n",
    "```python\n",
    "for var in nome_oggetto_iterabile: # una stringa, lista, tupla o il risultato di range()\n",
    "    istruzione\n",
    "    istruzione\n",
    "    ...\n",
    "```"
   ]
  },
  {
   "cell_type": "code",
   "execution_count": 1,
   "metadata": {
    "collapsed": false,
    "jupyter": {
     "outputs_hidden": false
    },
    "pycharm": {
     "is_executing": false,
     "name": "#%%\n"
    }
   },
   "outputs": [
    {
     "name": "stdout",
     "text": [
      "[-10, -8, -6, -4, -2, 0, 2, 4, 6, 8] [8, 6, 4, 2, 0, -2, -4, -6, -8, -10]\n[100, 64, 36, 16, 4, 0, 4, 16, 36, 64]\n0 bim\n1 bum\n2 bam\na, b, r, a, c, a, d, a, b, r, a, "
     ],
     "output_type": "stream"
    }
   ],
   "source": [
    "l = []\n",
    "li = []\n",
    "\n",
    "for i in range(-10,10,2): # costruzione di una lista da lista vuota tramite for ... in\n",
    "                          # range(start,stop[,step]) genera un intervallo di valori interi da start a stop-1 con passo step (default: 1)\n",
    "                          # range(stop) genera un intervallo da 0 a stop-1 con passo 1\n",
    "    l.append(i)\n",
    "    li.insert(0,i)\n",
    "\n",
    "print(l,li)\n",
    "\n",
    "squares = [el**2 for el in l if el%2==0]  # costruzione di una lista da un oggetto iterabile sotto condizioni con <expr> for ... in [if ...]\n",
    "print(squares)\n",
    "\n",
    "for k,v in enumerate(['bim','bum','bam']): # enumerate itera sulla lista e genera gli indici\n",
    "    print(k,v)\n",
    "\n",
    "for c in 'abracadabra':\n",
    "    print(c, end=', ')"
   ]
  },
  {
   "cell_type": "markdown",
   "metadata": {
    "pycharm": {
     "name": "#%% md\n"
    }
   },
   "source": [
    "- Iterazione `while`:\n",
    "```python\n",
    "while condizione: # il blocco è eseguito quando condizione è valutata True\n",
    "    istruzione\n",
    "    istruzione\n",
    "    ...\n",
    "```"
   ]
  },
  {
   "cell_type": "code",
   "execution_count": 1,
   "metadata": {
    "collapsed": false,
    "jupyter": {
     "outputs_hidden": false
    },
    "pycharm": {
     "is_executing": false,
     "name": "#%%\n"
    }
   },
   "outputs": [
    {
     "name": "stdout",
     "output_type": "stream",
     "text": [
      "r o n e "
     ]
    }
   ],
   "source": [
    "item = 'r'\n",
    "s = 'Zio Paperone'\n",
    "pos = s.index(item)\n",
    "while item in s and pos < len(s):\n",
    "    print(item,end=' ')\n",
    "    pos += 1\n",
    "    if pos < len(s):\n",
    "        item = s[pos]\n",
    "    else:\n",
    "        break # esiste anche continue con il significato solito"
   ]
  },
  {
   "cell_type": "markdown",
   "metadata": {
    "pycharm": {
     "name": "#%% md\n"
    }
   },
   "source": [
    "## Ordinamento\n",
    "\n",
    "L'ordinamento degli elementi di un oggetto iterabile si può ottenere attraverso la funzione `sorted(iterable, key=None, reverse=False)` che in automatico restituisce una lista di elementi ordinati in ordine crescente. `key` contiene il riferimento ad una funzione che fa da criterio di selezione per l'ordinamento, mentre `reverse=True` abilita l'ordinamento inverso.\n",
    "\n",
    "Le liste hanno il loro metodo `sort()` per l'ordinamento _in place_ crescente automatico degli elementi, il quale restituisce `None` che è il letterale che esprime l'oggetto nullo (equivalente di `null` del C/C++)"
   ]
  },
  {
   "cell_type": "code",
   "execution_count": 5,
   "metadata": {
    "collapsed": false,
    "jupyter": {
     "outputs_hidden": false
    },
    "pycharm": {
     "is_executing": false,
     "name": "#%%\n"
    }
   },
   "outputs": [
    {
     "data": {
      "text/plain": [
       "['clarabella', 'paperino', 'pippo']"
      ]
     },
     "execution_count": 5,
     "metadata": {},
     "output_type": "execute_result"
    }
   ],
   "source": [
    "a = ['pippo','clarabella','paperino']\n",
    "a.sort()\n",
    "a"
   ]
  },
  {
   "cell_type": "code",
   "execution_count": 11,
   "metadata": {
    "collapsed": false,
    "jupyter": {
     "outputs_hidden": false
    },
    "pycharm": {
     "is_executing": false,
     "name": "#%%\n"
    }
   },
   "outputs": [
    {
     "name": "stdout",
     "output_type": "stream",
     "text": [
      "['pippo', 'paperino', 'clarabella']\n",
      "['clarabella', 'pippo', 'paperino']\n",
      "['clarabella', 'pippo', 'paperino']\n",
      "[('Anne', 'C', 17), ('Bill', 'B', 16), ('John', 'A', 15)]\n"
     ]
    }
   ],
   "source": [
    "print(sorted(['pippo','clarabella','paperino'],reverse=True))\n",
    "\n",
    "def lastCharacterOf(s):\n",
    "    return s[-1]        # return restituisce il risultato al chiamante\n",
    "\n",
    "print(sorted(['pippo','clarabella','paperino'],key=lastCharacterOf)) # passiamo a key il solo nome della funzione\n",
    "\n",
    "###\n",
    "#\n",
    "# l'operatore lambda arg: expr definisce le funzioni anonime in Python\n",
    "#\n",
    "###\n",
    "print(sorted(['pippo','clarabella','paperino'],key=lambda s: s[-1]))\n",
    "\n",
    "print(sorted([('John','A',15),('Anne','C',17),('Bill','B',16)],key=lambda student: student[1],reverse=True))"
   ]
  },
  {
   "cell_type": "markdown",
   "metadata": {
    "pycharm": {
     "name": "#%% md\n"
    }
   },
   "source": [
    "La funzione `reversed()` genera un ***iteratore*** che elenca la sequenza in ordine inverso. Gli iteratori sono oggetti sui quali si può scorrere utilizzando la funzione `next()` che genera l'eccezione `StopIteration`. La funzione `iter()` genera un iteratore dal suo argomento.\n",
    "\n",
    "## Esercizi\n",
    "\n",
    "1. Scrivere un programma Python `tail.py` che accetta due argomenti da linea di comando: `tail.py <stringa> <carattere>|<indice>` e stampa l'ultima parte della stringa a partire dall'ultima occorrenza del carattere ovvero a partire dall'indice specificato, anche negativo. Il programma dovrà effettuare il controllo di consistenza degli argomenti come tipo e numero e fornire un messaggio di utilizzo corretto in caso di errore nel passaggio degli argomenti ovvero di carattere non presente o indice fuori dal range della stringa. Si definisca una funzione `lastIndexOf` che ritorna ***l'ultima*** occorrenza di un carattere in una stringa e si richiami questa funzione dal programma principale.\n",
    "\n",
    "2. Scrivere un programma Pyhton `linear_merge.py` che accetta due liste con lo stesso tipo di elementi da linea di comando: `linear_merge.py <lista1> <lista2> [-r]` e stampa un'unica lista in cui gli elementi ripetuti di ogni lista sono stati rimossi e le due liste risultanti sono state fuse in un'unica lista ordinata e senza elementi ripetuti. Se l'argomento `-r` è presente l'output dovrà essere ordinato in senso inverso. Il programma dovrà effettuare il controllo di consistenza degli argomenti in tipo e numero e fornire un messaggio di utilizzo corretto in caso di errore. Si realizzino due funzioni `removeDuplicates` e `merge` per realizzare rispettivamente la rimozione di duplicati e la fuzione.\n",
    "    - _Opzionale_: gestire anche il caso in cui gli elementi delle due liste siano di tipo diverso e ordinarli rispetto alla loro rappresentazione interna di tipo stringa che si ottiene con la funzione `repr()` \n",
    "\n",
    "\n"
   ]
  }
 ],
 "metadata": {
  "kernelspec": {
   "display_name": "bigdata",
   "language": "python",
   "name": "bigdata"
  },
  "language_info": {
   "codemirror_mode": {
    "name": "ipython",
    "version": 3
   },
   "file_extension": ".py",
   "mimetype": "text/x-python",
   "name": "python",
   "nbconvert_exporter": "python",
   "pygments_lexer": "ipython3",
   "version": "3.7.3"
  },
  "pycharm": {
   "stem_cell": {
    "cell_type": "raw",
    "source": [],
    "metadata": {
     "collapsed": false
    }
   }
  }
 },
 "nbformat": 4,
 "nbformat_minor": 4
}