{
 "metadata": {
  "language_info": {
   "codemirror_mode": {
    "name": "ipython",
    "version": 3
   },
   "file_extension": ".py",
   "mimetype": "text/x-python",
   "name": "python",
   "nbconvert_exporter": "python",
   "pygments_lexer": "ipython3",
   "version": "3.7.8-final"
  },
  "orig_nbformat": 2,
  "kernelspec": {
   "name": "python378jvsc74a57bd0d59731171d8df34538826106f16ccd4d52cab9f4c612d60ab953acac38074d59",
   "display_name": "Python 3.7.8 64-bit ('bigdata_py37': conda)"
  }
 },
 "nbformat": 4,
 "nbformat_minor": 2,
 "cells": [
  {
   "cell_type": "code",
   "execution_count": 1,
   "metadata": {},
   "outputs": [],
   "source": [
    "import matplotlib\n",
    "import matplotlib.pyplot as plt\n",
    "import numpy as np\n",
    "import pydicom\n",
    "import nibabel as nib"
   ]
  },
  {
   "cell_type": "code",
   "execution_count": null,
   "metadata": {},
   "outputs": [],
   "source": [
    "\n",
    "def plot_images(img_stack, *, labels=None, figdim=5, colormap=plt.cm.gray, **imshowkwarg):\n",
    "    \"\"\"\n",
    "    Funzione di utilità per mostrare una grigli di immagini, impostando la lista delle legende\n",
    "    e, opzionalmente, la colormap che di default è impostata a livelli di grigio\n",
    "    \"\"\"    \n",
    "    nimag = len(img_stack)\n",
    "\n",
    "    # creiamo il layout\n",
    "    nrows = 1 if nimag <= 3 else 2 if nimag <= 6 else 3 if nimag <=12 else 4 if nimag <= 16 else 5\n",
    "    ncols = nimag if nrows == 1 else 2 if nimag == 4 else 3 if nimag <=9 else 4 if nimag <= 16 else 5\n",
    "\n",
    "    # generiamo la figura con un canvas ce riserva 5x5 pollici a immagine\n",
    "    # e i riferimenti alle singole immagini\n",
    "    fig, axs = plt.subplots(nrows,ncols,squeeze=False,figsize=(figdim*ncols, figdim*nrows))\n",
    "    \n",
    "    img = 0 # contatore delle immagini\n",
    "\n",
    "    for r in range(nrows):\n",
    "        for c in range(ncols):\n",
    "            # eliminiamo lo stile del grafico\n",
    "            axs[r, c].tick_params(axis='both',\\\n",
    "                    which='both',\\\n",
    "                    bottom=False,top=False,right=False,left=False,\\\n",
    "                    labelbottom=False,labelleft=False)\n",
    "            plt.gca().spines['top'].set_visible(False)\n",
    "            plt.gca().spines['bottom'].set_visible(False)\n",
    "            plt.gca().spines['left'].set_visible(False)\n",
    "            plt.gca().spines['right'].set_visible(False)\n",
    "\n",
    "            # se ci troviamo nella posizione di una\n",
    "            # immagine allora la mostriamo\n",
    "            if r*ncols + c < nimag:\n",
    "                if labels != None:\n",
    "                    axs[r, c].set_title(labels[img])\n",
    "            \n",
    "                axs[r, c].imshow(img_stack[img], cmap=colormap, **imshowkwarg)\n",
    "\n",
    "                img += 1 # immagine successiva\n"
   ]
  }
 ]
}