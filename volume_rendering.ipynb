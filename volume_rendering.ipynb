{
 "cells": [
  {
   "cell_type": "code",
   "execution_count": 1,
   "metadata": {},
   "outputs": [],
   "source": [
    "import numpy as np\n",
    "import matplotlib.pyplot as plt\n",
    "import pydicom\n",
    "import os\n",
    "import os.path\n",
    "import pyvista as pv\n",
    "from scipy.stats import *\n",
    "\n",
    "# Utilità di display dell'immagine\n",
    "def plot_images(img_stack, *, labels=None, figdim=5, colormap=plt.cm.gray, **imshowkwarg):\n",
    "    \"\"\"\n",
    "    Funzione di utilità per mostrare una grigli di immagini, impostando la lista delle legende\n",
    "    e, opzionalmente, la colormap che di default è impostata a livelli di grigio\n",
    "    \"\"\"    \n",
    "    nimag = len(img_stack)\n",
    "\n",
    "    # creiamo il layout\n",
    "    nrows = 1 if nimag <= 3 else 2 if nimag <= 6 else 3 if nimag <=12 else 4 if nimag <= 16 else 5\n",
    "    ncols = nimag if nrows == 1 else 2 if nimag == 4 else 3 if nimag <=9 else 4 if nimag <= 16 else 5\n",
    "\n",
    "    # generiamo la figura con un canvas ce riserva 5x5 pollici a immagine\n",
    "    # e i riferimenti alle singole immagini\n",
    "    fig, axs = plt.subplots(nrows,ncols,squeeze=False,figsize=(figdim*ncols, figdim*nrows))\n",
    "    \n",
    "    img = 0 # contatore delle immagini\n",
    "\n",
    "    for r in range(nrows):\n",
    "        for c in range(ncols):\n",
    "            # eliminiamo lo stile del grafico\n",
    "            axs[r, c].tick_params(axis='both',\\\n",
    "                    which='both',\\\n",
    "                    bottom=False,top=False,right=False,left=False,\\\n",
    "                    labelbottom=False,labelleft=False)\n",
    "            plt.gca().spines['top'].set_visible(False)\n",
    "            plt.gca().spines['bottom'].set_visible(False)\n",
    "            plt.gca().spines['left'].set_visible(False)\n",
    "            plt.gca().spines['right'].set_visible(False)\n",
    "\n",
    "            # se ci troviamo nella posizione di una\n",
    "            # immagine allora la mostriamo\n",
    "            if r*ncols + c < nimag:\n",
    "                if labels != None:\n",
    "                    axs[r, c].set_title(labels[img])\n",
    "            \n",
    "                axs[r, c].imshow(img_stack[img], cmap=colormap, **imshowkwarg)\n",
    "\n",
    "                img += 1 # immagine successiva\n",
    "    \n",
    "    return axs\n",
    "\n",
    "# Utilità di caricamento del volume DICOM\n",
    "def load_dcm_volume(directory):\n",
    "    \"\"\"\n",
    "    Funzione che carica un volume di dati DICOM da una cartella\n",
    "    assumendo che questa contenga solamente un insieme di file .dcm\n",
    "    \"\"\"\n",
    "\n",
    "    # leggiamo la lista dei file nella cartella\n",
    "    files = os.listdir(directory)\n",
    "    files.sort()\n",
    "    \n",
    "    # leggiamo il primo file per ottenere le dimensioni e il tipo della singola slice\n",
    "    file = pydicom.dcmread(f'{directory}/{files[0]}')\n",
    "    \n",
    "    # creiamo il volume\n",
    "    volume = np.full((len(files),file.pixel_array.shape[0],file.pixel_array.shape[1]),\\\n",
    "                    1,dtype=file.pixel_array.dtype)\n",
    "\n",
    "    # carichiamo la prima slice, già letta, e successivamente le altre \n",
    "    volume[0,:,:] = file.pixel_array\n",
    "\n",
    "    for i in range(1,len(files)):\n",
    "        volume[i,:,:] = pydicom.dcmread(f'{directory}/{files[i]}').pixel_array\n",
    "    \n",
    "    vol = np.copy(volume)\n",
    "\n",
    "    if file.SeriesDescription != '' and file.SeriesDescription.find('Sag') != -1:\n",
    "        vol=np.reshape(vol,(volume.shape[1],volume.shape[2],volume.shape[0]))\n",
    "\n",
    "        for i in range(volume[:,0,:].shape[1]):\n",
    "            vol[i,:,:] = volume[:,i,:].T\n",
    "    \n",
    "    if file.SeriesDescription != '' and file.SeriesDescription.find('Cor') != -1:\n",
    "        vol=np.reshape(vol,(volume.shape[1],volume.shape[0],volume.shape[2]))\n",
    "\n",
    "        for i in range(volume[:,0,:].shape[0]):\n",
    "            vol[i,:,:] = volume[:,i,:]\n",
    "    \n",
    "    return vol\n"
   ]
  },
  {
   "cell_type": "code",
   "execution_count": 2,
   "metadata": {},
   "outputs": [],
   "source": [
    "dcm_volume = load_dcm_volume('Data/series-00000')\n"
   ]
  },
  {
   "cell_type": "code",
   "execution_count": 3,
   "metadata": {},
   "outputs": [],
   "source": [
    "def opacity(low, high):\n",
    "    \n",
    "    opacity_vector = np.zeros((255,),dtype=float)\n",
    "    \n",
    "    step = high - low // 3\n",
    "    \n",
    "    for i in range (low, high):\n",
    "        opacity_vector[i]= opacity_vector[i-1] + 1/step if i < low + step \\\n",
    "                            else 1 if i < low + 2*step \\\n",
    "                            else opacity_vector[i-1] - 1/step\n",
    "    \n",
    "    return opacity_vector"
   ]
  },
  {
   "cell_type": "code",
   "execution_count": null,
   "metadata": {},
   "outputs": [],
   "source": [
    "\n",
    "print(describe(dcm_volume,axis=None), median_abs_deviation(dcm_volume,axis=None))\n",
    "\n",
    "opacity = opacity(200, 240)\n",
    "\n",
    "p = pv.Plotter()\n",
    "p.add_volume(dcm_volume, cmap=\"viridis\", opacity=opacity, blending='composite', shade=True)\n",
    "\n",
    "p.show()"
   ]
  },
  {
   "cell_type": "code",
   "execution_count": null,
   "metadata": {},
   "outputs": [],
   "source": [
    "from pyvista import examples\n",
    "\n",
    "vol = examples.download_knee_full()\n",
    "\n",
    "vol.plot(volume=True, cmap=\"bone\", cpos=cpos)"
   ]
  },
  {
   "cell_type": "code",
   "execution_count": null,
   "metadata": {},
   "outputs": [],
   "source": [
    "p = pv.Plotter()\n",
    "p.add_volume(vol, cmap=\"bone\", opacity=\"sigmoid\")\n",
    "p.show()"
   ]
  }
 ],
 "metadata": {
  "interpreter": {
   "hash": "5945af9a96e6e647b0ea8e08b074d24af382ce724393bc9312c12615b3573177"
  },
  "kernelspec": {
   "display_name": "Python 3.9.9 ('medical_imaging')",
   "language": "python",
   "name": "python3"
  },
  "language_info": {
   "codemirror_mode": {
    "name": "ipython",
    "version": 3
   },
   "file_extension": ".py",
   "mimetype": "text/x-python",
   "name": "python",
   "nbconvert_exporter": "python",
   "pygments_lexer": "ipython3",
   "version": "3.9.9"
  },
  "orig_nbformat": 4
 },
 "nbformat": 4,
 "nbformat_minor": 2
}
